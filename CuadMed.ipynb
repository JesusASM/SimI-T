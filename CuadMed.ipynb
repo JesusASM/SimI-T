{
  "nbformat": 4,
  "nbformat_minor": 0,
  "metadata": {
    "colab": {
      "provenance": [],
      "toc_visible": true,
      "authorship_tag": "ABX9TyNmyopJo++Z3kCwzXje/sJG",
      "include_colab_link": true
    },
    "kernelspec": {
      "name": "python3",
      "display_name": "Python 3"
    },
    "language_info": {
      "name": "python"
    }
  },
  "cells": [
    {
      "cell_type": "markdown",
      "metadata": {
        "id": "view-in-github",
        "colab_type": "text"
      },
      "source": [
        "<a href=\"https://colab.research.google.com/github/JesusASM/SimI-T/blob/main/CuadMed.ipynb\" target=\"_parent\"><img src=\"https://colab.research.google.com/assets/colab-badge.svg\" alt=\"Open In Colab\"/></a>"
      ]
    },
    {
      "cell_type": "code",
      "execution_count": null,
      "metadata": {
        "id": "GibsmqX2_iuA"
      },
      "outputs": [],
      "source": [
        "def CuadMed(seed):\n",
        "    Xn=[]\n",
        "    while True:\n",
        "        Ni= int(seed) ** 2\n",
        "        mt=str(Ni)\n",
        "        mt=len(mt)//2\n",
        "        if len(str(Ni)) % 2 == 0:\n",
        "            ini=mt-2\n",
        "        else:\n",
        "            ini=mt-2\n",
        "        NRN= str(Ni)\n",
        "        NRN=NRN[ini:ini+4]\n",
        "        print(NRN)\n",
        "        NSInt = int(NRN)\n",
        "        Xn.append(NSInt)\n",
        "        if NSInt == seed:\n",
        "            print(Xn)\n",
        "            break\n",
        "        seed=int(NSInt)\n",
        "\n",
        "\n",
        "\n",
        "\n",
        "seed = input(\"Escriba la semilla:\")\n",
        "CuadMed(seed)"
      ]
    }
  ]
}