{
 "cells": [
  {
   "cell_type": "markdown",
   "id": "48b67587-b6e7-42fb-8528-1d05752ad547",
   "metadata": {},
   "source": [
    "Ejercicio\n",
    "\n",
    "Para la solución analítica debemos realizar el cálculo de la probabilidad de que se cumpla el evento $x_2$ mayor que $x_1$, es decir, que $x_2 - x_1$ sea mayor que 0.\n",
    "\n",
    "Para ello, recurriremos al teorema de reproductividad de una variable normal, que expone que dadas dos variables aleatorias $X \\~ N()y Y \\~ N()$, la resta de ambas variables normales es una variable normal con media $\\mu = \\mu_2 - \\mu_1$ y varianza  $\\sigma = \\sqrt{σ_1^2+σ_2^2}$    "
   ]
  },
  {
   "cell_type": "markdown",
   "id": "f4ec5bdb-54b4-4605-a844-a5bbbae54577",
   "metadata": {},
   "source": [
    "Ahora, dada $ \\mu_1 = 1.5~y~\\mu_2 = 1.48~y~ \\sigma^2 _1=0.0016 ~y~\\sigma^2 _2 = 0.0009$, determinamos que $ \\mu_T=-0.02 ~y~ \\sigma_T=0.05$\n",
    "Una vez determinados los parámetros de la nueva variable aleatoria, podemos calcular su probabilidadne:"
   ]
  },
  {
   "cell_type": "code",
   "execution_count": 33,
   "id": "06a9aaa8-1ccb-41dd-855a-29ed2c2aa2d5",
   "metadata": {},
   "outputs": [
    {
     "name": "stdout",
     "output_type": "stream",
     "text": [
      "La probabilidad de falla es: 0.344578\n"
     ]
    }
   ],
   "source": [
    "import scipy.stats as stats\n",
    "probabilidad = 1 - stats.norm.cdf(0, loc=-0.02, scale=0.05)\n",
    "print(f\"La probabilidad de falla es: {probabilidad:7f}\")"
   ]
  },
  {
   "cell_type": "markdown",
   "id": "248ce893-22f3-49d1-8005-d99d943bc8d5",
   "metadata": {},
   "source": [
    "Es decir, la probabilidad de que $ x_2$ sea mayor que $x_1$ es de 0.3446, lo cual coincide con la simulación en clase.\n",
    "Repitamos el proceso de simulación y comparemos la solución analítica y simulada."
   ]
  },
  {
   "cell_type": "code",
   "execution_count": 34,
   "id": "42c257b2-ad1d-4f17-b4dd-18e995f17573",
   "metadata": {},
   "outputs": [
    {
     "name": "stdout",
     "output_type": "stream",
     "text": [
      "La probabilidad de falla simulada es: 0.346332\n"
     ]
    },
    {
     "data": {
      "image/png": "[encoded data removed]",
      "text/plain": [
       "<Figure size 640x480 with 1 Axes>"
      ]
     },
     "metadata": {},
     "output_type": "display_data"
    }
   ],
   "source": [
    "import numpy as np\n",
    "import matplotlib.pyplot as plt\n",
    "\n",
    "def FlyCog(mu1,mu2,sig1,sig2,n):\n",
    "    #Generamos 500-veces la variable x1 y x2 mientras las restamos para comprobar si ocurre la falla, durante n veces\n",
    "    P_u=[]\n",
    "    P_gu=[]\n",
    "    for e in range(n):\n",
    "        f=0 #cantidad de fallas\n",
    "        for i in range(500):\n",
    "            x1=np.random.normal(mu1,sig1)\n",
    "            x2=np.random.normal(mu2,sig2)\n",
    "            if x2-x1>0:\n",
    "                f+=1\n",
    "        P_u.append(f/500)\n",
    "    P=np.mean(P_u)\n",
    "    plt.hist(P_u,50)\n",
    "    print(f\"La probabilidad de falla simulada es: {P:7f}\")\n",
    "        \n",
    "mu1=1.5\n",
    "mu2=1.48\n",
    "sig1=0.04\n",
    "sig2=0.03\n",
    "FlyCog(1.5,1.48,0.04,0.03,500)"
   ]
  },
  {
   "cell_type": "markdown",
   "id": "7cc8a0e2-1381-45bf-a25c-f41ca12cfa80",
   "metadata": {},
   "source": [
    "Como observamos, ambas soluciones coinciden con el resultado de la probabilidad."
   ]
  }
 ],
 "metadata": {
  "kernelspec": {
   "display_name": "Python 3 (ipykernel)",
   "language": "python",
   "name": "python3"
  },
  "language_info": {
   "codemirror_mode": {
    "name": "ipython",
    "version": 3
   },
   "file_extension": ".py",
   "mimetype": "text/x-python",
   "name": "python",
   "nbconvert_exporter": "python",
   "pygments_lexer": "ipython3",
   "version": "3.11.7"
  }
 },
 "nbformat": 4,
 "nbformat_minor": 5
}
