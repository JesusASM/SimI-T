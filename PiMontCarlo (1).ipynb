{
 "cells": [
  {
   "cell_type": "markdown",
   "id": "62a70226-8b60-4960-9938-12cd408e02f0",
   "metadata": {},
   "source": [
    "# Estimación de $\\pi$ por método Monte Carlo"
   ]
  },
  {
   "cell_type": "markdown",
   "id": "28eacfbe-e33c-481a-aed8-674857be4475",
   "metadata": {},
   "source": [
    "Para este método de estimación partimos del principio que $\\frac{1}{4}$ de área de un circulo con norma uno comprende $\\frac{\\pi}{4}$.\n",
    "Por lo cual, utilizando el método monte carlo podemos generar valores aleatorios y considerar como eventos favorables a todos aquellos que se encuentren dentro del área del circulo, con respecto a la cantidad de valores generados, dandonos así la relación de $\\frac{\\pi}{4}$.\n",
    "Posteriormente, sólo tendremos que multiplicar por cuatro y obtendremos la aproximación de $\\pi$.\n",
    "\n",
    "El experimento consiste en tomar dos variables aleatorias uniformes entre 0 y 1, comparar que dado el dominio $u_1$, el contradominio $u_2$ se encuentra dentro del área del cuarto de círculo, y en caso de ser así, contabilizarlo para posteriormente multiplicarlo por cuatro y analizar la proporción."
   ]
  },
  {
   "cell_type": "code",
   "execution_count": null,
   "id": "8c0f3dbf-2dfc-41cf-9ea7-16e49fdb49cb",
   "metadata": {},
   "outputs": [],
   "source": [
    "for i in range(n):\n",
    "            u1=rnd.random()\n",
    "            u2=rnd.random()\n",
    "            if u2<=np.sqrt(1-u1 ** 2):\n",
    "                entries+=1\n",
    "            P=entries/(i+1)\n",
    "            list.append(4*P)"
   ]
  },
  {
   "cell_type": "markdown",
   "id": "710a8318-cb75-4878-b128-07fb5dc91ed5",
   "metadata": {},
   "source": [
    "Una vez determinado un número de iteraciones donde converge, en este caso 700, determinaremos la simulación del experimento una cantidad de veces."
   ]
  },
  {
   "cell_type": "code",
   "execution_count": 16,
   "id": "b50b2b6f-61ce-438b-b359-55d876329dde",
   "metadata": {},
   "outputs": [],
   "source": [
    "import numpy as np\n",
    "import matplotlib.pyplot as plt\n",
    "import random as rnd\n",
    "\n",
    "def ExpPi(n,m):\n",
    "    list2=[]\n",
    "    for e in range(m):\n",
    "        list=[]\n",
    "        entries=0\n",
    "        for i in range(n):\n",
    "            u1=rnd.random()\n",
    "            u2=rnd.random()\n",
    "            if u2<=np.sqrt(1-u1 ** 2):\n",
    "                entries+=1\n",
    "            P=entries/(i+1)\n",
    "            list.append(4*P)\n",
    "        list2.append(np.mean(list))\n",
    "    print(\"La aproximación de pi es:\",np.mean(list2))\n",
    "    plt.hist(list2,150)\n",
    "\n",
    "\n",
    "## FUNCIÓN PARA LA OBTENCIÓN DE DATOS\n",
    "\n",
    "def dataSim(n,m):\n",
    "    list2=[]\n",
    "    for e in range(m):\n",
    "        list=[]\n",
    "        entries=0\n",
    "        for i in range(n):\n",
    "            u1=rnd.random()\n",
    "            u2=rnd.random()\n",
    "            if u2<=np.sqrt(1-u1 ** 2):\n",
    "                entries+=1\n",
    "            P=entries/(i+1)\n",
    "            list.append(4*P)\n",
    "        list2.append(np.mean(list))\n",
    "    return list2"
   ]
  },
  {
   "cell_type": "markdown",
   "id": "5ddca4a9-9fff-41c4-a253-91b3b8ea9b5c",
   "metadata": {},
   "source": [
    "## Para 2000 experimentos"
   ]
  },
  {
   "cell_type": "code",
   "execution_count": 9,
   "id": "7138247f-8386-41c9-86d3-3f21211847db",
   "metadata": {},
   "outputs": [
    {
     "name": "stdout",
     "output_type": "stream",
     "text": [
      "La aproximación de pi es: 3.1392336350951546\n"
     ]
    },
    {
     "data": {
      "image/png": "[encoded data removed]",
      "text/plain": [
       "<Figure size 640x480 with 1 Axes>"
      ]
     },
     "metadata": {},
     "output_type": "display_data"
    }
   ],
   "source": [
    "ExpPi(700,2000)"
   ]
  },
  {
   "cell_type": "markdown",
   "id": "3ccb6bed-88dd-4e3f-afc7-6d1245727bde",
   "metadata": {},
   "source": [
    "Para este caso particular, se realiza el experimento 2000 veces, obteniendo una aproximación de Pi que si realizamos muchos o pocos experimentos, no existe una relación que nos beneficie aumentando el número de experimentos para mejorar la precisión.\n",
    "\n",
    "## Para 500 experimentos\n"
   ]
  },
  {
   "cell_type": "code",
   "execution_count": 10,
   "id": "3c351bc5-92a6-473d-b037-d6c90d5d3e14",
   "metadata": {},
   "outputs": [
    {
     "name": "stdout",
     "output_type": "stream",
     "text": [
      "La aproximación de pi es: 3.13854609355525\n"
     ]
    },
    {
     "data": {
      "image/png": "[encoded data removed]",
      "text/plain": [
       "<Figure size 640x480 with 1 Axes>"
      ]
     },
     "metadata": {},
     "output_type": "display_data"
    }
   ],
   "source": [
    "ExpPi(700,500)\n"
   ]
  },
  {
   "cell_type": "markdown",
   "id": "0b2c0ca7-7839-4df7-abf1-b531f75d390c",
   "metadata": {},
   "source": [
    "## Para 10000 experimentos"
   ]
  },
  {
   "cell_type": "code",
   "execution_count": 14,
   "id": "3a2e4756-69f8-4461-8f5a-adad068df621",
   "metadata": {},
   "outputs": [
    {
     "name": "stdout",
     "output_type": "stream",
     "text": [
      "La aproximación de pi es: 3.1417517328298525\n"
     ]
    },
    {
     "data": {
      "image/png": "[encoded data removed]",
      "text/plain": [
       "<Figure size 640x480 with 1 Axes>"
      ]
     },
     "metadata": {},
     "output_type": "display_data"
    }
   ],
   "source": [
    "ExpPi(700,10000)"
   ]
  },
  {
   "cell_type": "markdown",
   "id": "6c6f8ed3-837b-4a88-974f-6a99626d0755",
   "metadata": {},
   "source": [
    "Como podemos observar, entre los 500 y 2000 experimentos no existe mucho error relativo considerando que en un experimento se cuatriplica la cantidad de experimentaciones, y en el caso de 10000, este fenómeno se aprecia más, donde a pesar de aumentar las iteraciones, la convergencia no mejora."
   ]
  }
 ],
 "metadata": {
  "kernelspec": {
   "display_name": "Python 3 (ipykernel)",
   "language": "python",
   "name": "python3"
  },
  "language_info": {
   "codemirror_mode": {
    "name": "ipython",
    "version": 3
   },
   "file_extension": ".py",
   "mimetype": "text/x-python",
   "name": "python",
   "nbconvert_exporter": "python",
   "pygments_lexer": "ipython3",
   "version": "3.11.7"
  }
 },
 "nbformat": 4,
 "nbformat_minor": 5
}
