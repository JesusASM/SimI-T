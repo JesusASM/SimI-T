{
  "nbformat": 4,
  "nbformat_minor": 0,
  "metadata": {
    "colab": {
      "provenance": [],
      "toc_visible": true,
      "authorship_tag": "ABX9TyM3QvAKTjIfq7TgJKo4W2S4",
      "include_colab_link": true
    },
    "kernelspec": {
      "name": "python3",
      "display_name": "Python 3"
    },
    "language_info": {
      "name": "python"
    }
  },
  "cells": [
    {
      "cell_type": "markdown",
      "metadata": {
        "id": "view-in-github",
        "colab_type": "text"
      },
      "source": [
        "<a href=\"https://colab.research.google.com/github/JesusASM/SimI-T/blob/main/ProdMed.ipynb\" target=\"_parent\"><img src=\"https://colab.research.google.com/assets/colab-badge.svg\" alt=\"Open In Colab\"/></a>"
      ]
    },
    {
      "cell_type": "code",
      "execution_count": null,
      "metadata": {
        "id": "2SoOEDbqOru2"
      },
      "outputs": [],
      "source": [
        "def ProdMed(seed):\n",
        "    Xn=[]\n",
        "    while True:\n",
        "        Au=str(seed)\n",
        "        N1=Au[:len(Au)//2]\n",
        "        N2=Au[len(Au)//2:]\n",
        "        A=int(N1)\n",
        "        B=int(N2)\n",
        "        Ni= A*B\n",
        "        NSInt = Ni\n",
        "        Xn.append(NSInt)\n",
        "        if NSInt == seed or Ni==0:\n",
        "            print(Xn)\n",
        "            break\n",
        "        seed=int(NSInt)\n",
        "\n",
        "seed = input(\"Escriba la semilla:\")\n",
        "ProdMed(seed)"
      ]
    }
  ]
}