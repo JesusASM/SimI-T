{
  "nbformat": 4,
  "nbformat_minor": 0,
  "metadata": {
    "colab": {
      "provenance": [],
      "authorship_tag": "ABX9TyNoDp9vqaZEXMiQemQf4QM0",
      "include_colab_link": true
    },
    "kernelspec": {
      "name": "python3",
      "display_name": "Python 3"
    },
    "language_info": {
      "name": "python"
    }
  },
  "cells": [
    {
      "cell_type": "markdown",
      "metadata": {
        "id": "view-in-github",
        "colab_type": "text"
      },
      "source": [
        "<a href=\"https://colab.research.google.com/github/JesusASM/SimI-T/blob/main/Ji2.ipynb\" target=\"_parent\"><img src=\"https://colab.research.google.com/assets/colab-badge.svg\" alt=\"Open In Colab\"/></a>"
      ]
    },
    {
      "cell_type": "code",
      "execution_count": null,
      "metadata": {
        "id": "L5q5OHGJYpV2"
      },
      "outputs": [],
      "source": [
        "from tabulate import tabulate\n",
        "import numpy as np\n",
        "\n",
        "def BonJi(data,nAc,VC):\n",
        "    CCat=[\"0-0.19\",\"0.2-0.39\",\"0.4-5.99\",\"0.6-7.99\",\"0.8-1\",\"Total\"]\n",
        "    CFOb=[]\n",
        "    CFEs=[len(data)/5,len(data)/5,len(data)/5,len(data)/5,len(data)/5]\n",
        "    xquad=[]\n",
        "    c1=0;c2=0;c3=0;c4=0;c5=0\n",
        "    nm=len(data)\n",
        "    i=0\n",
        "    while True:\n",
        "        if data[i]<0.2:\n",
        "            c1+=1\n",
        "        elif data[i]<0.4:\n",
        "            c2+=1\n",
        "        elif data[i]<0.6:\n",
        "            c3+=1\n",
        "        elif data[i]<0.8:\n",
        "            c4+=1\n",
        "        elif data[i]<1:\n",
        "            c5+=1\n",
        "        i+=1\n",
        "        if i==len(data):\n",
        "            break\n",
        "    CFOb=[c1,c2,c3,c4,c5]\n",
        "\n",
        "    for i in range(5):\n",
        "        A1=(CFOb[i]-CFEs[i])\n",
        "        A1=A1 ** 2\n",
        "        A1=A1/CFEs[i]\n",
        "        xquad.append(A1)\n",
        "\n",
        "    CFOb.append(np.sum(CFOb))\n",
        "    CFEs.append(np.sum(CFEs))\n",
        "    xquad.append(np.sum(xquad))\n",
        "\n",
        "    head=[\"Categoría\",\"Frecuencia Observada\",\"Frecuencia esperada\",\"X^2\"]\n",
        "    dataf=np.column_stack((CCat,CFOb,CFEs,xquad))\n",
        "    print(tabulate(dataf, headers=head, tablefmt=\"github\"))\n",
        "    if xquad[5]<VC:\n",
        "        print(\"Como x^2 es menor que el valor crítico, sigue una distribución uniforme\")\n",
        "    else:\n",
        "        print(\"Como x^2 es mayor que el valor crítico, NO sigue una distribución uniforme\")\n",
        "\n",
        "##EJEMPLO\n",
        "#data=[0.8797,0.3884,0.6289,0.5999,0.8589,0.9996,0.2415,0.3808,0.9606,0.9848,0.3469,0.7977,0.5844,0.8147,0.6431,0.7387,0.5613,0.0318,0.7401,0.4557,0.1592,0.8536,0.8846,0.3410,0.1492,0.8681,0.5291,0.3188,0.5992,0.9170,0.2204,0.5991,0.5461,0.5739,0.3254,0.0856,0.2258,0.4603,0.5027,0.8376,0.6235,0.3681,0.2088,0.1525,0.2006,0.4820,0.4272,0.6360,0.0954]\n",
        "#nAc=0.95\n",
        "#VC=7.815\n",
        "#BonJi(data,nAc,VC)"
      ]
    }
  ]
}