{
  "nbformat": 4,
  "nbformat_minor": 0,
  "metadata": {
    "colab": {
      "provenance": [],
      "authorship_tag": "ABX9TyNKIHErIykiyJj1P1nmF1qX",
      "include_colab_link": true
    },
    "kernelspec": {
      "name": "python3",
      "display_name": "Python 3"
    },
    "language_info": {
      "name": "python"
    }
  },
  "cells": [
    {
      "cell_type": "markdown",
      "metadata": {
        "id": "view-in-github",
        "colab_type": "text"
      },
      "source": [
        "<a href=\"https://colab.research.google.com/github/JesusASM/SimI-T/blob/main/GenCon.ipynb\" target=\"_parent\"><img src=\"https://colab.research.google.com/assets/colab-badge.svg\" alt=\"Open In Colab\"/></a>"
      ]
    },
    {
      "cell_type": "code",
      "execution_count": null,
      "metadata": {
        "id": "H9N1jIOrL5dj"
      },
      "outputs": [],
      "source": [
        "a= int(input(\"Valor de a:\"))\n",
        "c= int(input(\"Valor de c:\"))\n",
        "m= int(input(\"Valor de m:\"))\n",
        "Xo= int(input(\"Valor de Xo:\"))\n",
        "Xn=[]\n",
        "Xn.append(Xo)\n",
        "Aux=Xo\n",
        "while True:\n",
        "    Xi=(a*Aux + c) % (m)\n",
        "    Aux=Xi\n",
        "    Xn.append(Xi)\n",
        "    if Xo == Xi:\n",
        "        break\n",
        "print(Xn)"
      ]
    }
  ]
}